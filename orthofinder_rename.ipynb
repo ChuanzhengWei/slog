{
 "cells": [
  {
   "cell_type": "code",
   "execution_count": null,
   "id": "6c0a371d-3d29-4e1b-87a1-a07d80949957",
   "metadata": {},
   "outputs": [],
   "source": [
    "import os\n",
    "os.chdir(r'C:\\Users\\WeiChuanzheng\\Desktop\\T2T_FC6\\orthofinder_rename')"
   ]
  },
  {
   "cell_type": "code",
   "execution_count": null,
   "id": "dab183b5-b7eb-4b69-bf6f-033ae5599b4b",
   "metadata": {},
   "outputs": [],
   "source": [
    "samples = [i.replace('.fa','') for i in os.listdir('01.protein/')]"
   ]
  },
  {
   "cell_type": "code",
   "execution_count": null,
   "id": "8d3cafeb-500d-4881-a774-bd05313ecb68",
   "metadata": {},
   "outputs": [],
   "source": [
    "len(samples)"
   ]
  },
  {
   "cell_type": "code",
   "execution_count": null,
   "id": "f10e921c-a3f5-476f-8f91-3f05e172509f",
   "metadata": {},
   "outputs": [],
   "source": [
    "directories = ['02.cds', '02.protein', '03.cds', '03.protein', '04.cds', '04.protein']\n",
    "for dir in directories:\n",
    "    os.makedirs(dir, exist_ok=True)"
   ]
  },
  {
   "cell_type": "code",
   "execution_count": null,
   "id": "529bffa8-16ba-4d70-bba8-ca2e4b9e44b3",
   "metadata": {},
   "outputs": [],
   "source": [
    "def FastaToDict(file):\n",
    "    fasta = {}\n",
    "    with open(file, 'r')as f:\n",
    "        lines = f.readlines()\n",
    "    for line in lines:\n",
    "        if line[0] == '>':\n",
    "            key = line.strip()\n",
    "            fasta[key] = []\n",
    "        else:\n",
    "            fasta[key].append(line.strip())\n",
    "    for key,value in list(fasta.items()):\n",
    "        fasta[key] = ''.join(value)\n",
    "    return fasta"
   ]
  },
  {
   "cell_type": "code",
   "execution_count": null,
   "id": "52e88e4d-fcb1-46d1-9b1c-6f7cc73e20d4",
   "metadata": {},
   "outputs": [],
   "source": [
    "def rename_protein(sample):\n",
    "    seq = FastaToDict(f'01.protein/{sample}.fa')\n",
    "    count = 0\n",
    "    new_cds_lines = []\n",
    "    match_lines = []\n",
    "    for k, v in seq.items():\n",
    "        k = k.split()[0]\n",
    "        count += 1\n",
    "        name = f\"S{str(count).zfill(6)}\"\n",
    "        match_lines.append(f\"{k[1:]}\\t{name}\\n\")\n",
    "        new_cds_lines.append(f\">{name}\\n\")\n",
    "        for i in range(0, len(v), 70):\n",
    "            new_cds_lines.append(f\"{v[i:i+70].rstrip('*')}\\n\")\n",
    "\n",
    "    with open(f'02.protein/{sample}.match.txt', 'w') as f:\n",
    "        f.writelines(match_lines)\n",
    "\n",
    "    with open(f'02.protein/{sample}.fa', 'w') as f:\n",
    "        f.writelines(new_cds_lines)\n",
    "\n",
    "    print(count)"
   ]
  },
  {
   "cell_type": "code",
   "execution_count": null,
   "id": "ea32d893-4265-41d8-88ea-222b8af59963",
   "metadata": {},
   "outputs": [],
   "source": [
    "def rename_cds(sample):\n",
    "    seq = FastaToDict(f'01.cds/{sample}.cds.fa')\n",
    "    count = 0\n",
    "    new_cds_lines = []\n",
    "    match_lines = []\n",
    "    for k, v in seq.items():\n",
    "        k = k.split()[0]\n",
    "        count += 1\n",
    "        name = f\"S{str(count).zfill(6)}\"\n",
    "        match_lines.append(f\"{k[1:]}\\t{name}\\n\")\n",
    "        new_cds_lines.append(f\">{name}\\n\")\n",
    "        for i in range(0, len(v), 70):\n",
    "            new_cds_lines.append(f\"{v[i:i+70].rstrip('*')}\\n\")\n",
    "\n",
    "    with open(f'02.cds/{sample}.match.txt', 'w') as f:\n",
    "        f.writelines(match_lines)\n",
    "\n",
    "    with open(f'02.cds/{sample}.cds.fa', 'w') as f:\n",
    "        f.writelines(new_cds_lines)\n",
    "\n",
    "    print(count)"
   ]
  },
  {
   "cell_type": "code",
   "execution_count": null,
   "id": "adac815a-185f-4411-a28a-d748b46327df",
   "metadata": {},
   "outputs": [],
   "source": [
    "def delate_point_protein(sample):\n",
    "    seq = FastaToDict('02.protein/{}.fa'.format(sample))\n",
    "    with open('03.protein/{}.fa'.format(sample), 'w')as f:\n",
    "        count = 0\n",
    "        for k,v in seq.items():\n",
    "            if '.' in v:continue\n",
    "            if '*' in v:continue\n",
    "            count += 1\n",
    "            f.write(f\"{k}\\n\")\n",
    "            for i in range(0, len(v), 70):\n",
    "                f.write(f\"{v[i:i+70]}\\n\")\n",
    "        print(count)"
   ]
  },
  {
   "cell_type": "code",
   "execution_count": null,
   "id": "1b126159-3956-46dd-9b78-2a3d57b752ae",
   "metadata": {},
   "outputs": [],
   "source": [
    "def delate_point_cds(sample):\n",
    "    seq1 = FastaToDict('03.protein/{}.fa'.format(sample))\n",
    "    seq2 = FastaToDict('02.cds/{}.cds.fa'.format(sample))\n",
    "    with open('03.cds/{}.cds.fa'.format(sample), 'w')as f:\n",
    "        count = 0\n",
    "        for k,v in seq1.items():\n",
    "            count += 1\n",
    "            f.write(f\"{k}\\n\")\n",
    "            s = seq2[k]\n",
    "            for i in range(0, len(s), 70):\n",
    "                f.write(f\"{s[i:i+70]}\\n\")\n",
    "        print(count)"
   ]
  },
  {
   "cell_type": "code",
   "execution_count": null,
   "id": "a45fc3ca-e1e5-4989-8613-521320cea92c",
   "metadata": {},
   "outputs": [],
   "source": [
    "rename_protein('Fhisp')\n",
    "rename_cds('Fhisp')\n",
    "delate_point_protein('Fhisp')\n",
    "delate_point_cds('Fhisp')"
   ]
  },
  {
   "cell_type": "code",
   "execution_count": null,
   "id": "232e9ea4-36c1-4f36-934c-c75023dd6f73",
   "metadata": {
    "scrolled": true
   },
   "outputs": [],
   "source": [
    "for sample in samples:\n",
    "    print(sample)\n",
    "    rename_protein(sample)\n",
    "    rename_cds(sample)\n",
    "    delate_point_protein(sample)\n",
    "    delate_point_cds(sample)"
   ]
  },
  {
   "cell_type": "code",
   "execution_count": null,
   "id": "06e8997c-7da0-4071-9ef1-eeb2b1fac053",
   "metadata": {},
   "outputs": [],
   "source": [
    "with open('fastix.sh', 'w')as f:\n",
    "    for sample in samples:\n",
    "        f.write(f\"fastix -p \\\"{sample}#\\\" 03.cds/{sample}.cds.fa > 04.cds/{sample}.cds.fa\\n\")\n",
    "        f.write(f\"fastix -p \\\"{sample}#\\\" 03.protein/{sample}.fa > 04.protein/{sample}.fa\\n\")"
   ]
  }
 ],
 "metadata": {
  "kernelspec": {
   "display_name": "Python 3 (ipykernel)",
   "language": "python",
   "name": "python3"
  },
  "language_info": {
   "codemirror_mode": {
    "name": "ipython",
    "version": 3
   },
   "file_extension": ".py",
   "mimetype": "text/x-python",
   "name": "python",
   "nbconvert_exporter": "python",
   "pygments_lexer": "ipython3",
   "version": "3.12.7"
  }
 },
 "nbformat": 4,
 "nbformat_minor": 5
}
