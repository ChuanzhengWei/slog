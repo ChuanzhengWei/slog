{
 "cells": [
  {
   "cell_type": "markdown",
   "id": "7e9e5f87",
   "metadata": {},
   "source": [
    "## PopVis-Structure-Qmatrix-plot"
   ]
  },
  {
   "cell_type": "code",
   "execution_count": null,
   "id": "a4b51129",
   "metadata": {},
   "outputs": [],
   "source": [
    "import os\n",
    "os.chdir(r'C:\\Users\\WeiChuanzheng\\Desktop\\popVis\\structure')"
   ]
  },
  {
   "cell_type": "code",
   "execution_count": null,
   "id": "f38915df",
   "metadata": {},
   "outputs": [],
   "source": [
    "import pandas as pd\n",
    "import matplotlib.pyplot as plt\n",
    "import seaborn as sns\n",
    "import numpy as np"
   ]
  },
  {
   "cell_type": "code",
   "execution_count": null,
   "id": "f3f6d6e6-2cbd-41ce-9700-2030540231d2",
   "metadata": {},
   "outputs": [],
   "source": [
    "from scipy.cluster import hierarchy"
   ]
  },
  {
   "cell_type": "code",
   "execution_count": null,
   "id": "a5675d4a",
   "metadata": {},
   "outputs": [],
   "source": [
    "q_matrix = [i for i in os.listdir() if i.endswith(\".Q\")]"
   ]
  },
  {
   "cell_type": "code",
   "execution_count": null,
   "id": "b012102f",
   "metadata": {},
   "outputs": [],
   "source": [
    "q_matrix"
   ]
  },
  {
   "cell_type": "code",
   "execution_count": null,
   "id": "b3b8bee4",
   "metadata": {},
   "outputs": [],
   "source": [
    "info_df = pd.read_csv('info.txt', sep='\\t', header=None, names=['sample', 'province'])"
   ]
  },
  {
   "cell_type": "code",
   "execution_count": null,
   "id": "5022e1d7",
   "metadata": {},
   "outputs": [],
   "source": [
    "q_df = pd.read_csv('Sb.5.Q', sep=r'\\s+', header=None)\n",
    "num_clusters = q_df.shape[1]\n",
    "q_df.columns = [f'K{i+1}' for i in range(num_clusters)]"
   ]
  },
  {
   "cell_type": "code",
   "execution_count": null,
   "id": "8f333682",
   "metadata": {},
   "outputs": [],
   "source": [
    "df = pd.concat([info_df, q_df], axis=1)"
   ]
  },
  {
   "cell_type": "code",
   "execution_count": null,
   "id": "636dad7d-9f1c-4092-aed6-d909293ddcb9",
   "metadata": {
    "scrolled": true
   },
   "outputs": [],
   "source": [
    "df"
   ]
  },
  {
   "cell_type": "markdown",
   "id": "deccb0f4-1b49-4d5a-b335-256871f4027c",
   "metadata": {},
   "source": [
    "### Sort by sample order in vcf file"
   ]
  },
  {
   "cell_type": "code",
   "execution_count": null,
   "id": "5412f79b-fa1d-4186-9800-5389fb6ab6f5",
   "metadata": {},
   "outputs": [],
   "source": [
    "custom_colors = [\n",
    "    '#FF6B6B', '#4ECDC4', '#45B7D1', '#96CEB4', '#FFEEAD',\n",
    "    '#D4A5A5', '#9B59B6', '#3498DB', '#E74C3C', '#2ECC71',\n",
    "    '#F1C40F', '#E67E22', '#1ABC9C', '#8E44AD', '#D35400',\n",
    "    '#2C3E50', '#7F8C8D', '#ECF0F1', '#BDC3C7', '#34495E'\n",
    "]\n",
    "\n",
    "f, ax = plt.subplots(figsize=(12, 6))\n",
    "\n",
    "# 使用 pandas 绘制堆积条形图，应用自定义颜色\n",
    "df.set_index('sample').drop(columns=['province']).plot(kind='bar', stacked=True, ax=ax, width=1, edgecolor='none', color=custom_colors)\n",
    "# ax.set_xlabel('Sample')\n",
    "# ax.set_ylabel('Ancestry Proportion')\n",
    "# ax.set_title('Population Structure (K=4)')\n",
    "# ax.legend(title='Clusters', bbox_to_anchor=(1.05, 1), loc='upper left')\n",
    "ax.legend_.remove()\n",
    "ax.spines['bottom'].set_visible(False)\n",
    "ax.spines['left'].set_visible(False)\n",
    "ax.spines['top'].set_visible(False)\n",
    "ax.spines['right'].set_visible(False)\n",
    "ax.set_xlabel(\"\")\n",
    "ax.set_ylabel(\"\")\n",
    "ax.set_xticks([])\n",
    "ax.set_yticks([]) \n",
    "ax.set_xticklabels([])\n",
    "\n",
    "# plt.xticks(rotation=45)\n",
    "# sns.despine()\n",
    "\n",
    "plt.tight_layout()\n",
    "plt.savefig(\"tmp.pdf\", format=\"pdf\", dpi=600, bbox_inches=\"tight\")\n",
    "plt.show()"
   ]
  },
  {
   "cell_type": "markdown",
   "id": "b57e4041-ca54-4db1-a1bb-73fe2e131be2",
   "metadata": {},
   "source": [
    "### Sort by custom order"
   ]
  },
  {
   "cell_type": "code",
   "execution_count": null,
   "id": "7655e8a7-9bac-4995-9483-b183f74941cc",
   "metadata": {},
   "outputs": [],
   "source": [
    "custom_order = []\n",
    "with open('info.random.txt', 'r')as f:\n",
    "    lines = f.readlines()\n",
    "    for line in lines:\n",
    "        custom_order.append(line.rstrip().split()[0])"
   ]
  },
  {
   "cell_type": "code",
   "execution_count": null,
   "id": "837914f3-3953-4c16-aa7d-dcb64e4d635c",
   "metadata": {},
   "outputs": [],
   "source": [
    "df_sorted = df.set_index('sample').reindex(custom_order).reset_index()\n",
    "custom_colors = [\n",
    "    '#FF6B6B', '#4ECDC4', '#45B7D1', '#96CEB4', '#FFEEAD',\n",
    "    '#D4A5A5', '#9B59B6', '#3498DB', '#E74C3C', '#2ECC71',\n",
    "    '#F1C40F', '#E67E22', '#1ABC9C', '#8E44AD', '#D35400',\n",
    "    '#2C3E50', '#7F8C8D', '#ECF0F1', '#BDC3C7', '#34495E'\n",
    "]\n",
    "\n",
    "f, ax = plt.subplots(figsize=(12, 6))\n",
    "df_sorted.set_index('sample').drop(columns=['province']).plot(kind='bar', stacked=True, ax=ax, width=1, edgecolor='none', color=custom_colors)\n",
    "# ax.set_xlabel('Sample')\n",
    "# ax.set_ylabel('Ancestry Proportion')\n",
    "# ax.set_title('Population Structure (K=4)')\n",
    "# ax.legend(title='Clusters', bbox_to_anchor=(1.05, 1), loc='upper left')\n",
    "ax.legend_.remove()\n",
    "ax.spines['bottom'].set_visible(False)\n",
    "ax.spines['left'].set_visible(False)\n",
    "ax.spines['top'].set_visible(False)\n",
    "ax.spines['right'].set_visible(False)\n",
    "ax.set_xlabel(\"\")\n",
    "ax.set_ylabel(\"\")\n",
    "ax.set_xticks([])\n",
    "ax.set_yticks([]) \n",
    "ax.set_xticklabels([])\n",
    "\n",
    "# plt.xticks(rotation=45)\n",
    "# sns.despine()\n",
    "\n",
    "plt.tight_layout()\n",
    "plt.savefig(\"tmp.pdf\", format=\"pdf\", dpi=600, bbox_inches=\"tight\")\n",
    "plt.show()"
   ]
  },
  {
   "cell_type": "markdown",
   "id": "2b75125e-3669-4f36-b6a0-656aa6d3f7dc",
   "metadata": {},
   "source": [
    "### Sort by default cluster order"
   ]
  },
  {
   "cell_type": "code",
   "execution_count": null,
   "id": "06512e44-a6a1-403c-9003-aaf271a99bde",
   "metadata": {},
   "outputs": [],
   "source": [
    "cluster_data = df.set_index('sample').drop(columns=['province'])\n",
    "Z = hierarchy.linkage(cluster_data, method='ward')\n",
    "leaf_order = hierarchy.leaves_list(Z)\n",
    "sorted_samples = cluster_data.index[leaf_order]\n",
    "df_sorted = df.set_index('sample').reindex(sorted_samples).reset_index()"
   ]
  },
  {
   "cell_type": "code",
   "execution_count": null,
   "id": "127a8731-4fcb-45ac-8b0e-4e94984a870f",
   "metadata": {},
   "outputs": [],
   "source": [
    "custom_colors = [\n",
    "    '#FF6B6B', '#4ECDC4', '#45B7D1', '#96CEB4', '#FFEEAD',\n",
    "    '#D4A5A5', '#9B59B6', '#3498DB', '#E74C3C', '#2ECC71',\n",
    "    '#F1C40F', '#E67E22', '#1ABC9C', '#8E44AD', '#D35400',\n",
    "    '#2C3E50', '#7F8C8D', '#ECF0F1', '#BDC3C7', '#34495E'\n",
    "]\n",
    "\n",
    "f, ax = plt.subplots(figsize=(12, 6))\n",
    "\n",
    "df_sorted.set_index('sample').drop(columns=['province']).plot(kind='bar', stacked=True, ax=ax, width=1, edgecolor='none', color=custom_colors)\n",
    "# ax.set_xlabel('Sample')\n",
    "# ax.set_ylabel('Ancestry Proportion')\n",
    "# ax.set_title('Population Structure (K=4)')\n",
    "# ax.legend(title='Clusters', bbox_to_anchor=(1.05, 1), loc='upper left')\n",
    "ax.legend_.remove()\n",
    "ax.spines['bottom'].set_visible(False)\n",
    "ax.spines['left'].set_visible(False)\n",
    "ax.spines['top'].set_visible(False)\n",
    "ax.spines['right'].set_visible(False)\n",
    "ax.set_xlabel(\"\")\n",
    "ax.set_ylabel(\"\")\n",
    "ax.set_xticks([])\n",
    "ax.set_yticks([]) \n",
    "ax.set_xticklabels([])\n",
    "\n",
    "# plt.xticks(rotation=45)\n",
    "# sns.despine()\n",
    "\n",
    "plt.tight_layout()\n",
    "plt.savefig(\"tmp.pdf\", format=\"pdf\", dpi=600, bbox_inches=\"tight\")\n",
    "plt.show()"
   ]
  },
  {
   "cell_type": "markdown",
   "id": "c06922f6-61db-4dff-892f-b769dc346c40",
   "metadata": {},
   "source": [
    "### Dynamically resize the canvas (show sample name)"
   ]
  },
  {
   "cell_type": "code",
   "execution_count": null,
   "id": "c82295cf-3a7a-44a6-9091-3b3fdd95e487",
   "metadata": {},
   "outputs": [],
   "source": [
    "cluster_data = df.set_index('sample').drop(columns=['province'])\n",
    "Z = hierarchy.linkage(cluster_data, method='ward')\n",
    "leaf_order = hierarchy.leaves_list(Z)\n",
    "sorted_samples = cluster_data.index[leaf_order]\n",
    "df_sorted = df.set_index('sample').reindex(sorted_samples).reset_index()"
   ]
  },
  {
   "cell_type": "code",
   "execution_count": null,
   "id": "07900b6b-6267-491b-b9f2-d86f8d71d759",
   "metadata": {},
   "outputs": [],
   "source": [
    "custom_colors = [\n",
    "    '#FF6B6B', '#4ECDC4', '#45B7D1', '#96CEB4', '#FFEEAD',\n",
    "    '#D4A5A5', '#9B59B6', '#3498DB', '#E74C3C', '#2ECC71',\n",
    "    '#F1C40F', '#E67E22', '#1ABC9C', '#8E44AD', '#D35400',\n",
    "    '#2C3E50', '#7F8C8D', '#ECF0F1', '#BDC3C7', '#34495E'\n",
    "]\n",
    "\n",
    "num_samples = len(df_sorted)\n",
    "bar_width = 0.5\n",
    "\n",
    "width_per_sample = 0.1\n",
    "fig_width = max(12, num_samples * width_per_sample)\n",
    "fig_height = 6\n",
    "figsize = (fig_width, fig_height)\n",
    "\n",
    "f, ax = plt.subplots(figsize=figsize)\n",
    "\n",
    "df_sorted.set_index('sample').drop(columns=['province']).plot(\n",
    "    kind='bar', stacked=True, ax=ax, width=1, edgecolor='none', color=custom_colors\n",
    ")\n",
    "\n",
    "ax.legend_.remove()\n",
    "\n",
    "ax.spines['bottom'].set_visible(False)\n",
    "ax.spines['left'].set_visible(False)\n",
    "ax.spines['top'].set_visible(False)\n",
    "ax.spines['right'].set_visible(False)\n",
    "\n",
    "ax.set_ylabel(\"\")\n",
    "ax.set_yticks([])\n",
    "# ax.set_xticklabels([])\n",
    "ax.set_xlabel(\"\")\n",
    "ax.set_xticks(range(len(df_sorted)))\n",
    "ax.set_xticklabels(df_sorted['sample'], rotation=90) \n",
    "ax.tick_params(axis='x', which='both', length=0)\n",
    "\n",
    "plt.tight_layout()\n",
    "\n",
    "plt.savefig(\"tmp.pdf\", format=\"pdf\", dpi=600, bbox_inches=\"tight\")\n",
    "\n",
    "# plt.show()"
   ]
  },
  {
   "cell_type": "markdown",
   "id": "2e7c7f41-91d7-496c-bb76-6858f3a5c9ac",
   "metadata": {},
   "source": [
    "### Dynamically resize the canvas (don't show sample name)"
   ]
  },
  {
   "cell_type": "code",
   "execution_count": null,
   "id": "00fd7bc2-81aa-4d61-9f2a-05558cc7314c",
   "metadata": {},
   "outputs": [],
   "source": [
    "cluster_data = df.set_index('sample').drop(columns=['province'])\n",
    "Z = hierarchy.linkage(cluster_data, method='ward')\n",
    "leaf_order = hierarchy.leaves_list(Z)\n",
    "sorted_samples = cluster_data.index[leaf_order]\n",
    "df_sorted = df.set_index('sample').reindex(sorted_samples).reset_index()"
   ]
  },
  {
   "cell_type": "code",
   "execution_count": null,
   "id": "62e55b23-ce51-41fc-8297-131bc15f39ab",
   "metadata": {},
   "outputs": [],
   "source": [
    "custom_colors = [\n",
    "    '#FF6B6B', '#4ECDC4', '#45B7D1', '#96CEB4', '#FFEEAD',\n",
    "    '#D4A5A5', '#9B59B6', '#3498DB', '#E74C3C', '#2ECC71',\n",
    "    '#F1C40F', '#E67E22', '#1ABC9C', '#8E44AD', '#D35400',\n",
    "    '#2C3E50', '#7F8C8D', '#ECF0F1', '#BDC3C7', '#34495E'\n",
    "]\n",
    "\n",
    "num_samples = len(df_sorted)\n",
    "bar_width = 0.5\n",
    "\n",
    "width_per_sample = 0.1\n",
    "fig_width = max(12, num_samples * width_per_sample)\n",
    "fig_height = 6\n",
    "figsize = (fig_width, fig_height)\n",
    "\n",
    "f, ax = plt.subplots(figsize=figsize)\n",
    "\n",
    "df_sorted.set_index('sample').drop(columns=['province']).plot(\n",
    "    kind='bar', stacked=True, ax=ax, width=1, edgecolor='none', color=custom_colors\n",
    ")\n",
    "\n",
    "ax.legend_.remove()\n",
    "\n",
    "ax.spines['bottom'].set_visible(False)\n",
    "ax.spines['left'].set_visible(False)\n",
    "ax.spines['top'].set_visible(False)\n",
    "ax.spines['right'].set_visible(False)\n",
    "\n",
    "# ax.set_ylabel(\"K=4\")\n",
    "ax.set_ylabel(\"\")\n",
    "ax.set_yticks([])\n",
    "ax.set_yticklabels([])\n",
    "ax.set_xlabel(\"\")\n",
    "ax.set_xticks([])\n",
    "ax.set_xticklabels([])\n",
    "# ax.set_xticks(range(len(df_sorted)))\n",
    "# ax.set_xticklabels(df_sorted['sample'], rotation=90) \n",
    "# ax.tick_params(axis='x', which='both', length=0)\n",
    "\n",
    "plt.tight_layout()\n",
    "\n",
    "plt.savefig(\"tmp.pdf\", format=\"pdf\", dpi=600, bbox_inches=\"tight\")\n",
    "\n",
    "# plt.show()"
   ]
  },
  {
   "cell_type": "markdown",
   "id": "3d8cebcc-cf58-47f1-a653-5241216b4deb",
   "metadata": {},
   "source": [
    "### Sort by the information provided (in info.txt)"
   ]
  },
  {
   "cell_type": "code",
   "execution_count": null,
   "id": "ed74d5b6-173e-4f2f-bef5-925b25b05684",
   "metadata": {},
   "outputs": [],
   "source": [
    "df_sorted_by_province = df.sort_values(by='province')\n",
    "sorted_samples = []\n",
    "\n",
    "for province, group in df_sorted_by_province.groupby('province'):\n",
    "    cluster_data = group.set_index('sample').drop(columns=['province'])\n",
    "    if len(cluster_data) == 1:\n",
    "        sorted_samples.extend(cluster_data.index)\n",
    "        continue\n",
    "\n",
    "    Z = hierarchy.linkage(cluster_data, method='ward')\n",
    "    leaf_order = hierarchy.leaves_list(Z)\n",
    "    \n",
    "    group_samples = cluster_data.index[leaf_order]\n",
    "    sorted_samples.extend(group_samples)\n",
    "df_sorted = df.set_index('sample').reindex(sorted_samples).reset_index()"
   ]
  },
  {
   "cell_type": "code",
   "execution_count": null,
   "id": "d34ad6fe-dcb4-44ad-80fd-b45f434c77db",
   "metadata": {},
   "outputs": [],
   "source": [
    "custom_colors = [\n",
    "    '#FF6B6B', '#4ECDC4', '#45B7D1', '#96CEB4', '#FFEEAD',\n",
    "    '#D4A5A5', '#9B59B6', '#3498DB', '#E74C3C', '#2ECC71',\n",
    "    '#F1C40F', '#E67E22', '#1ABC9C', '#8E44AD', '#D35400',\n",
    "    '#2C3E50', '#7F8C8D', '#ECF0F1', '#BDC3C7', '#34495E'\n",
    "]\n",
    "\n",
    "num_samples = len(df_sorted)\n",
    "bar_width = 0.5\n",
    "\n",
    "width_per_sample = 0.1\n",
    "fig_width = max(12, num_samples * width_per_sample)\n",
    "fig_height = 6\n",
    "figsize = (fig_width, fig_height)\n",
    "\n",
    "f, ax = plt.subplots(figsize=figsize)\n",
    "\n",
    "df_sorted.set_index('sample').drop(columns=['province']).plot(\n",
    "    kind='bar', stacked=True, ax=ax, width=1, edgecolor='none', color=custom_colors\n",
    ")\n",
    "\n",
    "ax.legend_.remove()\n",
    "\n",
    "ax.spines['bottom'].set_visible(False)\n",
    "ax.spines['left'].set_visible(False)\n",
    "ax.spines['top'].set_visible(False)\n",
    "ax.spines['right'].set_visible(False)\n",
    "\n",
    "ax.set_ylabel(\"\")\n",
    "ax.set_yticks([])\n",
    "# ax.set_xticklabels([])\n",
    "ax.set_xlabel(\"\")\n",
    "ax.set_xticks(range(len(df_sorted)))\n",
    "ax.set_xticklabels(df_sorted['sample'], rotation=90) \n",
    "ax.tick_params(axis='x', which='both', length=0)\n",
    "\n",
    "plt.tight_layout()\n",
    "\n",
    "plt.savefig(\"tmp.pdf\", format=\"pdf\", dpi=600, bbox_inches=\"tight\")\n",
    "\n",
    "# plt.show()"
   ]
  },
  {
   "cell_type": "code",
   "execution_count": null,
   "id": "fadafe81-a1f7-4b39-bd68-c1abcfd0b2df",
   "metadata": {},
   "outputs": [],
   "source": [
    "### Use dashed lines to separate different groups.\n",
    "num_samples = len(df_sorted)\n",
    "width_per_sample = 0.1\n",
    "fig_width = max(12, num_samples * width_per_sample)\n",
    "fig_height = 6\n",
    "figsize = (fig_width, fig_height)\n",
    "\n",
    "f, ax = plt.subplots(figsize=figsize)\n",
    "\n",
    "df_sorted.set_index('sample').drop(columns=['province']).plot(\n",
    "    kind='bar', stacked=True, ax=ax, width=1, edgecolor='none', color=custom_colors\n",
    ")\n",
    "\n",
    "ax.legend_.remove()\n",
    "\n",
    "ax.spines['bottom'].set_visible(False)\n",
    "ax.spines['left'].set_visible(False)\n",
    "ax.spines['top'].set_visible(False)\n",
    "ax.spines['right'].set_visible(False)\n",
    "\n",
    "ax.set_xlabel(\"\")\n",
    "ax.set_ylabel(\"\")\n",
    "ax.set_xticks([])\n",
    "ax.set_yticks([])\n",
    "ax.set_xticklabels([])\n",
    "\n",
    "province_counts = df_sorted.groupby('province').size()\n",
    "province_boundaries = province_counts.cumsum()\n",
    "province_starts = province_boundaries - province_counts\n",
    "\n",
    "y_min, y_max = ax.get_ylim()\n",
    "for boundary in province_boundaries[:-1]:\n",
    "    ax.axvline(x=boundary - 0.5, color='black', linestyle='--', linewidth=2, ymin=0, ymax=0.96)\n",
    "\n",
    "for province, start, count in zip(province_counts.index, province_starts, province_counts):\n",
    "    center = start + (count - 1) / 2 \n",
    "    ax.text(center, -0.05, province, ha='center', va='top', transform=ax.get_xaxis_transform(), fontsize=10)\n",
    "\n",
    "plt.tight_layout()\n",
    "plt.subplots_adjust(bottom=0.1)\n",
    "\n",
    "plt.savefig(\"tmp.pdf\", format=\"pdf\", dpi=600, bbox_inches=\"tight\")\n",
    "\n",
    "plt.show()"
   ]
  },
  {
   "cell_type": "markdown",
   "id": "8569f877-6b7d-4a6d-ae8c-6e2922548601",
   "metadata": {},
   "source": [
    "### Draw only a portion of the samples"
   ]
  },
  {
   "cell_type": "code",
   "execution_count": null,
   "id": "5c1e6d5c-53c8-45e0-9349-c116adfa6ad7",
   "metadata": {},
   "outputs": [],
   "source": [
    "selected_samples = []\n",
    "with open('tmp.txt', 'r')as f:\n",
    "    lines = f.readlines()\n",
    "    for line in lines:\n",
    "        selected_samples.append(line.rstrip().split()[0])"
   ]
  },
  {
   "cell_type": "code",
   "execution_count": null,
   "id": "7311cbef-b691-429f-b5c3-01c986868d2d",
   "metadata": {},
   "outputs": [],
   "source": [
    "# df_subset = df_sorted[df_sorted['sample'].isin(selected_samples)]\n",
    "df_subset = df[df['sample'].isin(selected_samples)]\n",
    "df_subset = df_subset.set_index('sample').reindex(selected_samples).reset_index()"
   ]
  },
  {
   "cell_type": "code",
   "execution_count": null,
   "id": "00929256-4d60-4133-8e36-1f85dca12ac9",
   "metadata": {},
   "outputs": [],
   "source": [
    "custom_colors = [\n",
    "    '#FF6B6B', '#4ECDC4', '#45B7D1', '#96CEB4', '#FFEEAD',\n",
    "    '#D4A5A5', '#9B59B6', '#3498DB', '#E74C3C', '#2ECC71',\n",
    "    '#F1C40F', '#E67E22', '#1ABC9C', '#8E44AD', '#D35400',\n",
    "    '#2C3E50', '#7F8C8D', '#ECF0F1', '#BDC3C7', '#34495E'\n",
    "]\n",
    "\n",
    "num_samples = len(df_subset)\n",
    "bar_width = 0.5\n",
    "\n",
    "width_per_sample = 0.1\n",
    "fig_width = max(12, num_samples * width_per_sample)\n",
    "fig_height = 6\n",
    "figsize = (fig_width, fig_height)\n",
    "\n",
    "f, ax = plt.subplots(figsize=figsize)\n",
    "\n",
    "df_subset.set_index('sample').drop(columns=['province']).plot(\n",
    "    kind='bar', stacked=True, ax=ax, width=1, edgecolor='none', color=custom_colors\n",
    ")\n",
    "\n",
    "ax.legend_.remove()\n",
    "\n",
    "ax.spines['bottom'].set_visible(False)\n",
    "ax.spines['left'].set_visible(False)\n",
    "ax.spines['top'].set_visible(False)\n",
    "ax.spines['right'].set_visible(False)\n",
    "\n",
    "ax.set_ylabel(\"\")\n",
    "ax.set_yticks([])\n",
    "# ax.set_xticklabels([])\n",
    "ax.set_xlabel(\"\")\n",
    "ax.set_xticks(range(len(df_subset)))\n",
    "ax.set_xticklabels(df_subset['sample'], rotation=90) \n",
    "ax.tick_params(axis='x', which='both', length=0)\n",
    "\n",
    "plt.tight_layout()\n",
    "\n",
    "plt.savefig(\"tmp.pdf\", format=\"pdf\", dpi=600, bbox_inches=\"tight\")\n",
    "\n",
    "# plt.show()"
   ]
  }
 ],
 "metadata": {
  "kernelspec": {
   "display_name": "Python [conda env:base] *",
   "language": "python",
   "name": "conda-base-py"
  },
  "language_info": {
   "codemirror_mode": {
    "name": "ipython",
    "version": 3
   },
   "file_extension": ".py",
   "mimetype": "text/x-python",
   "name": "python",
   "nbconvert_exporter": "python",
   "pygments_lexer": "ipython3",
   "version": "3.12.7"
  }
 },
 "nbformat": 4,
 "nbformat_minor": 5
}
